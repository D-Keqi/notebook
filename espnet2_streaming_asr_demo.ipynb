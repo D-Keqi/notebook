{
 "cells": [
  {
   "cell_type": "markdown",
   "metadata": {},
   "source": [
    "# ESPnet2 real streaming Transformer demonstration\n",
    "This local notebook provides a demonstration of streaming ASR based on Transformer using ESPnet2.\n",
    "\n",
    "You can recognize a recorded audio file or a speech online.\n",
    "\n",
    "Author: Keqi Deng (UCAS)"
   ]
  },
  {
   "cell_type": "markdown",
   "metadata": {},
   "source": [
    "## Download pre-trained model and audio file for demo\n",
    "Please download and unzip the following files from the Google Drive to the same directory as this local notebook.\n",
    "- https://drive.google.com/file/d/1i4N--kh-QvoJ974F22cWAIV5Tzazv7cx/view?usp=sharing    (prepare status)\n",
    "- https://drive.google.com/file/d/1xHfVJ1YRoDDvvt2ADg58-alQvJdp4eFi/view?usp=sharing    (download pretrained Mandarin model)\n",
    "- https://drive.google.com/file/d/1bLXeF2zUDi2G2jBwslqX9UMHh7H1FPLn/view?usp=sharing    (download corresponding config)\n",
    "- https://drive.google.com/file/d/1l8w93r8Bs5FtC3A-1ydEqFQdP4k6FiUL/view?usp=sharing    (download audio file for demo)"
   ]
  },
  {
   "cell_type": "markdown",
   "metadata": {},
   "source": [
    "## Import packages"
   ]
  },
  {
   "cell_type": "raw",
   "metadata": {},
   "source": [
    "Make sure that you have installed the latest ESPnet"
   ]
  },
  {
   "cell_type": "code",
   "execution_count": 1,
   "metadata": {},
   "outputs": [],
   "source": [
    "import sys\n",
    "import espnet\n",
    "from espnet2.bin.asr_inference_streaming import Speech2TextStreaming\n",
    "import argparse\n",
    "import numpy as np\n",
    "import wave"
   ]
  },
  {
   "cell_type": "markdown",
   "metadata": {},
   "source": [
    "## Prepare for inference"
   ]
  },
  {
   "cell_type": "code",
   "execution_count": 2,
   "metadata": {},
   "outputs": [],
   "source": [
    "asr_train_config='./config.yaml'\n",
    "asr_model_file='./valid.acc.ave.pth'\n",
    "speech2text = Speech2TextStreaming(\n",
    "    asr_train_config=asr_train_config,\n",
    "    asr_model_file=asr_model_file,\n",
    "    lm_train_config=None,\n",
    "    lm_file=None,\n",
    "    token_type=None,\n",
    "    bpemodel=None,\n",
    "    maxlenratio=0.0,\n",
    "    minlenratio=0.0,\n",
    "    beam_size=20,\n",
    "    ctc_weight=0.3,\n",
    "    lm_weight=0.0,\n",
    "    penalty=0.0,\n",
    "    nbest=1,\n",
    "    device = \"cpu\",\n",
    "    disable_repetition_detection=True,\n",
    "    decoder_text_length_limit=0,\n",
    "    encoded_feat_length_limit=0\n",
    ")"
   ]
  },
  {
   "cell_type": "code",
   "execution_count": 3,
   "metadata": {},
   "outputs": [],
   "source": [
    "prev_lines = 0\n",
    "def progress_output(text):\n",
    "    global prev_lines\n",
    "    lines=['']\n",
    "    for i in text:\n",
    "        if len(lines[-1]) > 50:\n",
    "            lines.append('')\n",
    "        lines[-1] += i\n",
    "    for i,line in enumerate(lines):\n",
    "        if i == prev_lines:\n",
    "            sys.stderr.write('\\n\\r')\n",
    "        else:\n",
    "            sys.stderr.write('\\r\\033[B\\033[K')\n",
    "        sys.stderr.write(line)\n",
    "\n",
    "    prev_lines = len(lines)\n",
    "    sys.stderr.flush()"
   ]
  },
  {
   "cell_type": "code",
   "execution_count": 4,
   "metadata": {},
   "outputs": [],
   "source": [
    "def recognize(wavfile):\n",
    "    with wave.open(wavfile, 'rb') as wavfile:\n",
    "        ch=wavfile.getnchannels()\n",
    "        bits=wavfile.getsampwidth()\n",
    "        rate=wavfile.getframerate()\n",
    "        nframes=wavfile.getnframes()\n",
    "        buf = wavfile.readframes(-1)\n",
    "        data=np.frombuffer(buf, dtype='int16')\n",
    "    speech = data.astype(np.float16)/32767.0\n",
    "    sim_chunk_length = 512\n",
    "    if sim_chunk_length > 0:\n",
    "        for i in range(len(speech)//sim_chunk_length):\n",
    "            results = speech2text(speech=speech[i*sim_chunk_length:(i+1)*sim_chunk_length], is_final=False)\n",
    "            if results is not None and len(results) > 0:\n",
    "                nbests = [text for text, token, token_int, hyp in results]\n",
    "                text = nbests[0] if nbests is not None and len(nbests) > 0 else \"\"\n",
    "                progress_output(nbests[0])\n",
    "            else:\n",
    "                progress_output(\"\")\n",
    "            \n",
    "        results = speech2text(speech[(i+1)*sim_chunk_length:len(speech)], is_final=True)\n",
    "    else:\n",
    "        results = speech2text(speech, is_final=True)\n",
    "    nbests = [text for text, token, token_int, hyp in results]\n",
    "    progress_output(nbests[0])"
   ]
  },
  {
   "cell_type": "markdown",
   "metadata": {},
   "source": [
    "## Recognize the audio file"
   ]
  },
  {
   "cell_type": "code",
   "execution_count": 5,
   "metadata": {},
   "outputs": [
    {
     "name": "stderr",
     "output_type": "stream",
     "text": [
      "c:\\programdata\\anaconda3\\envs\\tf\\lib\\site-packages\\torch\\functional.py:573: UserWarning: stft will soon require the return_complex parameter be given for real inputs, and will further require that return_complex=True in a future PyTorch release. (Triggered internally at  ..\\aten\\src\\ATen\\native\\SpectralOps.cpp:659.)\n",
      "  normalized, onesided, return_complex)\n",
      "c:\\programdata\\anaconda3\\envs\\tf\\lib\\site-packages\\espnet2\\layers\\stft.py:109: UserWarning: __floordiv__ is deprecated, and its behavior will change in a future version of pytorch. It currently rounds toward 0 (like the 'trunc' function NOT 'floor'). This results in incorrect rounding for negative values. To keep the current behavior, use torch.div(a, b, rounding_mode='trunc'), or for actual floor division, use torch.div(a, b, rounding_mode='floor').\n",
      "  olens = (ilens - self.win_length) // self.hop_length + 1\n",
      "\n",
      "\u001b[B\u001b[Kc:\\programdata\\anaconda3\\envs\\tf\\lib\\site-packages\\espnet\\nets\\batch_beam_search.py:107: UserWarning: __floordiv__ is deprecated, and its behavior will change in a future version of pytorch. It currently rounds toward 0 (like the 'trunc' function NOT 'floor'). This results in incorrect rounding for negative values. To keep the current behavior, use torch.div(a, b, rounding_mode='trunc'), or for actual floor division, use torch.div(a, b, rounding_mode='floor').\n",
      "  prev_hyp_ids = top_ids // self.n_vocab\n",
      "\u001b[B\u001b[K广州市房地产中介协会分析"
     ]
    }
   ],
   "source": [
    "wavfile='./BAC009S0724W0121.wav'\n",
    "recognize(wavfile)"
   ]
  },
  {
   "cell_type": "markdown",
   "metadata": {},
   "source": [
    "## Recognize the speech from speaker"
   ]
  },
  {
   "cell_type": "markdown",
   "metadata": {},
   "source": [
    "### Install pyaudio"
   ]
  },
  {
   "cell_type": "code",
   "execution_count": 6,
   "metadata": {},
   "outputs": [],
   "source": [
    "import pyaudio"
   ]
  },
  {
   "cell_type": "markdown",
   "metadata": {},
   "source": [
    "### Streamingly recognize with pyaudio"
   ]
  },
  {
   "cell_type": "code",
   "execution_count": 8,
   "metadata": {},
   "outputs": [
    {
     "name": "stderr",
     "output_type": "stream",
     "text": [
      "\u001b[B\u001b[K想了解更多马上注册"
     ]
    }
   ],
   "source": [
    "CHUNK=2048\n",
    "FORMAT=pyaudio.paInt16\n",
    "CHANNELS=1\n",
    "RATE=16000\n",
    "RECORD_SECONDS=5\n",
    "p=pyaudio.PyAudio()\n",
    "stream = p.open(format=FORMAT,channels=CHANNELS,rate=RATE,input=True,frames_per_buffer=CHUNK)\n",
    "for i in range(0,int(RATE/CHUNK*RECORD_SECONDS)+1):\n",
    "    data=stream.read(CHUNK)\n",
    "    data=np.frombuffer(data, dtype='int16')\n",
    "    data=data.astype(np.float16)/32767.0\n",
    "    if i==int(RATE/CHUNK*RECORD_SECONDS):\n",
    "        results = speech2text(speech=data, is_final=True)\n",
    "        break\n",
    "    results = speech2text(speech=data, is_final=False)\n",
    "    if results is not None and len(results) > 0:\n",
    "        nbests = [text for text, token, token_int, hyp in results]\n",
    "        text = nbests[0] if nbests is not None and len(nbests) > 0 else \"\"\n",
    "        progress_output(nbests[0])\n",
    "    else:\n",
    "        progress_output(\"\")\n",
    "nbests = [text for text, token, token_int, hyp in results]\n",
    "progress_output(nbests[0])"
   ]
  }
 ],
 "metadata": {
  "kernelspec": {
   "display_name": "Python 3",
   "language": "python",
   "name": "python3"
  },
  "language_info": {
   "codemirror_mode": {
    "name": "ipython",
    "version": 3
   },
   "file_extension": ".py",
   "mimetype": "text/x-python",
   "name": "python",
   "nbconvert_exporter": "python",
   "pygments_lexer": "ipython3",
   "version": "3.6.8"
  }
 },
 "nbformat": 4,
 "nbformat_minor": 2
}
